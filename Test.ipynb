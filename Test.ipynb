{
  "nbformat": 4,
  "nbformat_minor": 0,
  "metadata": {
    "colab": {
      "name": "Test.ipynb",
      "version": "0.3.2",
      "provenance": [],
      "collapsed_sections": [],
      "include_colab_link": true
    },
    "kernelspec": {
      "name": "python3",
      "display_name": "Python 3"
    }
  },
  "cells": [
    {
      "cell_type": "markdown",
      "metadata": {
        "id": "view-in-github",
        "colab_type": "text"
      },
      "source": [
        "<a href=\"https://colab.research.google.com/github/HannahSi/TestRep/blob/master/Test.ipynb\" target=\"_parent\"><img src=\"https://colab.research.google.com/assets/colab-badge.svg\" alt=\"Open In Colab\"/></a>"
      ]
    },
    {
      "cell_type": "code",
      "metadata": {
        "id": "sWmzTWmxNoAG",
        "colab_type": "code",
        "colab": {}
      },
      "source": [
        "!pip install aguaclara"
      ],
      "execution_count": 0,
      "outputs": []
    },
    {
      "cell_type": "code",
      "metadata": {
        "id": "YUNliI9VObdq",
        "colab_type": "code",
        "colab": {
          "base_uri": "https://localhost:8080/",
          "height": 34
        },
        "outputId": "16692f2c-419a-4032-aa08-a73d330cd4ca"
      },
      "source": [
        "from aguaclara.core.units import unit_registry as u\n",
        "\n",
        "(1*u.rpm).to(u.rad/u.sec)"
      ],
      "execution_count": 4,
      "outputs": [
        {
          "output_type": "execute_result",
          "data": {
            "text/latex": "$0.10471975511965977\\ \\frac{\\mathrm{radian}}{\\mathrm{second}}$",
            "text/html": [
              "0.10471975511965977 radian/second"
            ],
            "text/plain": [
              "<Quantity(0.10471975511965977, 'radian / second')>"
            ]
          },
          "metadata": {
            "tags": []
          },
          "execution_count": 4
        }
      ]
    },
    {
      "cell_type": "markdown",
      "metadata": {
        "id": "K8Hix9rnNvJY",
        "colab_type": "text"
      },
      "source": [
        "This is code that imports aguaclara's unit registry."
      ]
    }
  ]
}